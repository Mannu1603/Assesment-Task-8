{
  "cells": [
    {
      "cell_type": "code",
      "execution_count": 50,
      "metadata": {
        "colab": {
          "base_uri": "https://localhost:8080/",
          "height": 433
        },
        "id": "v6Htq6x_qfM9",
        "outputId": "ba594c1a-4138-4a5c-c42c-86873879a36f"
      },
      "outputs": [],
      "source": [
        "import speech_recognition as sr\n",
        "\n",
        "# Define the SpeechRecognition recognizer\n",
        "r = sr.Recognizer()\n",
        "\n",
        "# Define the PyAudio microphone\n",
        "mic = sr.Microphone()"
      ]
    },
    {
      "cell_type": "code",
      "execution_count": 51,
      "metadata": {
        "colab": {
          "base_uri": "https://localhost:8080/"
        },
        "id": "qwsB_-e4qXtJ",
        "outputId": "9304f2a3-bafd-4708-c0a0-0fcef2aa1c58"
      },
      "outputs": [
        {
          "name": "stdout",
          "output_type": "stream",
          "text": [
            "Requirement already satisfied: SpeechRecognition in c:\\python310\\lib\\site-packages (3.9.0)\n",
            "Requirement already satisfied: requests>=2.26.0 in c:\\python310\\lib\\site-packages (from SpeechRecognition) (2.28.1)\n",
            "Requirement already satisfied: certifi>=2017.4.17 in c:\\python310\\lib\\site-packages (from requests>=2.26.0->SpeechRecognition) (2022.6.15)\n",
            "Requirement already satisfied: idna<4,>=2.5 in c:\\python310\\lib\\site-packages (from requests>=2.26.0->SpeechRecognition) (2.10)\n",
            "Requirement already satisfied: urllib3<1.27,>=1.21.1 in c:\\python310\\lib\\site-packages (from requests>=2.26.0->SpeechRecognition) (1.26.10)\n",
            "Requirement already satisfied: charset-normalizer<3,>=2 in c:\\python310\\lib\\site-packages (from requests>=2.26.0->SpeechRecognition) (2.1.0)\n"
          ]
        },
        {
          "name": "stderr",
          "output_type": "stream",
          "text": [
            "WARNING: Ignoring invalid distribution -atplotlib (c:\\python310\\lib\\site-packages)\n",
            "WARNING: Ignoring invalid distribution -atplotlib (c:\\python310\\lib\\site-packages)\n",
            "WARNING: Ignoring invalid distribution -atplotlib (c:\\python310\\lib\\site-packages)\n",
            "WARNING: Ignoring invalid distribution -atplotlib (c:\\python310\\lib\\site-packages)\n",
            "WARNING: Ignoring invalid distribution -atplotlib (c:\\python310\\lib\\site-packages)\n",
            "WARNING: Ignoring invalid distribution -atplotlib (c:\\python310\\lib\\site-packages)\n"
          ]
        }
      ],
      "source": [
        "!pip install SpeechRecognition"
      ]
    },
    {
      "cell_type": "code",
      "execution_count": 52,
      "metadata": {
        "colab": {
          "base_uri": "https://localhost:8080/"
        },
        "id": "aRXX6_6wrGJu",
        "outputId": "76d54682-779b-421b-890b-04f31de06763"
      },
      "outputs": [
        {
          "name": "stdout",
          "output_type": "stream",
          "text": [
            "Requirement already satisfied: PyAudio in c:\\python310\\lib\\site-packages (0.2.13)\n"
          ]
        },
        {
          "name": "stderr",
          "output_type": "stream",
          "text": [
            "WARNING: Ignoring invalid distribution -atplotlib (c:\\python310\\lib\\site-packages)\n",
            "WARNING: Ignoring invalid distribution -atplotlib (c:\\python310\\lib\\site-packages)\n",
            "WARNING: Ignoring invalid distribution -atplotlib (c:\\python310\\lib\\site-packages)\n",
            "WARNING: Ignoring invalid distribution -atplotlib (c:\\python310\\lib\\site-packages)\n",
            "WARNING: Ignoring invalid distribution -atplotlib (c:\\python310\\lib\\site-packages)\n",
            "WARNING: Ignoring invalid distribution -atplotlib (c:\\python310\\lib\\site-packages)\n"
          ]
        }
      ],
      "source": [
        "!pip install PyAudio\n"
      ]
    },
    {
      "cell_type": "code",
      "execution_count": 53,
      "metadata": {
        "colab": {
          "base_uri": "https://localhost:8080/"
        },
        "id": "G1-XMsJIqgJL",
        "outputId": "199561c5-08e3-417a-8782-73f9e4877141"
      },
      "outputs": [
        {
          "name": "stdout",
          "output_type": "stream",
          "text": [
            "Welcome to the Hotel Management chatbot! How can I assist you today?\n"
          ]
        }
      ],
      "source": [
        "# Welcome the user\n",
        "print(\"Welcome to the Hotel Management chatbot! How can I assist you today?\")"
      ]
    },
    {
      "cell_type": "code",
      "execution_count": 54,
      "metadata": {
        "id": "aa4VYUjvrcV6"
      },
      "outputs": [],
      "source": [
        "# Get the customer's name\n",
        "def get_name():\n",
        "    with mic as source:\n",
        "        print(\"Please say your name.\")\n",
        "        r.adjust_for_ambient_noise(source)\n",
        "        audio = r.listen(source)\n",
        "    name = r.recognize_google(audio)\n",
        "    print(\"Your name is\", name)\n",
        "    return name"
      ]
    },
    {
      "cell_type": "code",
      "execution_count": 55,
      "metadata": {
        "id": "Nwt-VqXfsHRZ"
      },
      "outputs": [],
      "source": [
        "# Get the customer's mobile number\n",
        "def get_mobile():\n",
        "    with mic as source:\n",
        "        print(\"Please say your mobile number.\")\n",
        "        r.adjust_for_ambient_noise(source)\n",
        "        audio = r.listen(source)\n",
        "    mobile = r.recognize_google(audio)\n",
        "    print(\"Your mobile number is\", mobile)\n",
        "    return mobile"
      ]
    },
    {
      "cell_type": "code",
      "execution_count": 56,
      "metadata": {
        "id": "pJw8xuxrsHNy"
      },
      "outputs": [],
      "source": [
        "# Get the customer's address\n",
        "def get_address():\n",
        "    with mic as source:\n",
        "        print(\"Please say your address.\")\n",
        "        r.adjust_for_ambient_noise(source)\n",
        "        audio = r.listen(source)\n",
        "    address = r.recognize_google(audio)\n",
        "    print(\"Your address is\", address)\n",
        "    return address"
      ]
    },
    {
      "cell_type": "code",
      "execution_count": 57,
      "metadata": {
        "id": "X6g_s55XsHLK"
      },
      "outputs": [],
      "source": [
        "# Get the customer's ID proof\n",
        "def get_id_proof():\n",
        "    with mic as source:\n",
        "        print(\"Please say your ID proof.\")\n",
        "        r.adjust_for_ambient_noise(source)\n",
        "        audio = r.listen(source)\n",
        "    id_proof = r.recognize_google(audio)\n",
        "    print(\"Your ID proof is\", id_proof)\n",
        "    return id_proof"
      ]
    },
    {
      "cell_type": "code",
      "execution_count": 58,
      "metadata": {
        "id": "W-RRG4EosHIU"
      },
      "outputs": [],
      "source": [
        "# Get the room type\n",
        "def get_room_type():\n",
        "    with mic as source:\n",
        "        print(\"Please say the type of room you want.\")\n",
        "        r.adjust_for_ambient_noise(source)\n",
        "        audio = r.listen(source)\n",
        "    room_type = r.recognize_google(audio)\n",
        "    print(\"You want a\", room_type, \"room.\")\n",
        "    return room_type"
      ]
    },
    {
      "cell_type": "code",
      "execution_count": 59,
      "metadata": {
        "id": "zrQP3_P9sHFd"
      },
      "outputs": [],
      "source": [
        "# Get the arrival date\n",
        "def get_arrival_date():\n",
        "    with mic as source:\n",
        "        print(\"Please say your arrival date.\")\n",
        "        r.adjust_for_ambient_noise(source)\n",
        "        audio = r.listen(source)\n",
        "    arrival_date = r.recognize_google(audio)\n",
        "    print(\"Your arrival date is\", arrival_date)\n",
        "    return arrival_date"
      ]
    },
    {
      "cell_type": "code",
      "execution_count": 60,
      "metadata": {
        "id": "RMyWI-hQsHCj"
      },
      "outputs": [],
      "source": [
        "# Get the departure date\n",
        "def get_departure_date():\n",
        "    with mic as source:\n",
        "        print(\"Please say your departure date.\")\n",
        "        r.adjust_for_ambient_noise(source)\n",
        "        audio = r.listen(source)\n",
        "    departure_date = r.recognize_google(audio)\n",
        "    print(\"Your departure date is\", departure_date)\n",
        "    return departure_date"
      ]
    },
    {
      "cell_type": "code",
      "execution_count": 61,
      "metadata": {
        "id": "1wLT7N41sG_3"
      },
      "outputs": [],
      "source": [
        "def check_eligibility(name, mobile, address, id_proof, room_type, arrival_date, departure_date):\n",
        "    # Check if any field is missing\n",
        "    if not all([name, mobile, address, id_proof, room_type, arrival_date, departure_date]):\n",
        "        print(\"Sorry, you must fill in all the fields to book a room.\")\n",
        "        return False\n",
        "    else:\n",
        "        return True\n",
        "\n",
        "\n"
      ]
    },
    {
      "cell_type": "code",
      "execution_count": 68,
      "metadata": {
        "id": "q-RWkOFGsG9S"
      },
      "outputs": [],
      "source": [
        "# Book the room\n",
        "def book_room():\n",
        "    # Get the customer's details\n",
        "    name = get_name()\n",
        "    mobile = get_mobile()\n",
        "    address = get_address()\n",
        "    id_proof = get_id_proof()\n",
        "    room_type = get_room_type()\n",
        "    arrival_date = get_arrival_date()\n",
        "    departure_date = get_departure_date()\n",
        "\n",
        "    # Check the eligibility to book the room\n",
        "    if check_eligibility(name, mobile, address, id_proof, room_type, arrival_date, departure_date):\n",
        "        print(\"Congratulations! Your room is booked.\")\n",
        "    else:\n",
        "        print(\"Sorry, you are not eligible to book a room.\")\n",
        "\n"
      ]
    },
    {
      "cell_type": "code",
      "execution_count": 69,
      "metadata": {
        "id": "oTqa94brsG3W"
      },
      "outputs": [
        {
          "name": "stdout",
          "output_type": "stream",
          "text": [
            "Please say your name.\n",
            "result2:\n",
            "{   'alternative': [   {'confidence': 0.81832623, 'transcript': 'Manu Singh'},\n",
            "                       {'transcript': 'Mannu Singh'},\n",
            "                       {'transcript': 'Man Singh'}],\n",
            "    'final': True}\n",
            "Your name is Manu Singh\n",
            "Please say your mobile number.\n",
            "result2:\n",
            "{   'alternative': [   {'confidence': 0.83314651, 'transcript': '741 541 9647'},\n",
            "                       {'transcript': '741541 9647'},\n",
            "                       {'transcript': '74154 19647'}],\n",
            "    'final': True}\n",
            "Your mobile number is 741 541 9647\n",
            "Please say your address.\n",
            "result2:\n",
            "{   'alternative': [{'confidence': 0.88687539, 'transcript': 'Visakhapatnam'}],\n",
            "    'final': True}\n",
            "Your address is Visakhapatnam\n",
            "Please say your ID proof.\n",
            "result2:\n",
            "{   'alternative': [   {   'confidence': 0.88687539,\n",
            "                           'transcript': 'driving licence'}],\n",
            "    'final': True}\n",
            "Your ID proof is driving licence\n",
            "Please say the type of room you want.\n",
            "result2:\n",
            "{   'alternative': [   {'confidence': 0.88687539, 'transcript': 'luxury'},\n",
            "                       {'transcript': 'luxur'}],\n",
            "    'final': True}\n",
            "You want a luxury room.\n",
            "Please say your arrival date.\n",
            "result2:\n",
            "{   'alternative': [   {   'confidence': 0.88687539,\n",
            "                           'transcript': '21 February 2023'}],\n",
            "    'final': True}\n",
            "Your arrival date is 21 February 2023\n",
            "Please say your departure date.\n",
            "result2:\n",
            "{   'alternative': [   {   'confidence': 0.88687539,\n",
            "                           'transcript': '23 February 2023'}],\n",
            "    'final': True}\n",
            "Your departure date is 23 February 2023\n",
            "Congratulations! Your room is booked.\n"
          ]
        }
      ],
      "source": [
        "# Call the book_room function to start the booking process\n",
        "book_room()"
      ]
    }
  ],
  "metadata": {
    "colab": {
      "provenance": []
    },
    "kernelspec": {
      "display_name": "Python 3",
      "language": "python",
      "name": "python3"
    },
    "language_info": {
      "codemirror_mode": {
        "name": "ipython",
        "version": 3
      },
      "file_extension": ".py",
      "mimetype": "text/x-python",
      "name": "python",
      "nbconvert_exporter": "python",
      "pygments_lexer": "ipython3",
      "version": "3.10.5"
    },
    "vscode": {
      "interpreter": {
        "hash": "369f2c481f4da34e4445cda3fffd2e751bd1c4d706f27375911949ba6bb62e1c"
      }
    }
  },
  "nbformat": 4,
  "nbformat_minor": 0
}
