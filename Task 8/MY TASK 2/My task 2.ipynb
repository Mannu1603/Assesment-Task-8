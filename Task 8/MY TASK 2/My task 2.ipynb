{
  "cells": [
    {
      "cell_type": "code",
      "execution_count": null,
      "metadata": {
        "colab": {
          "base_uri": "https://localhost:8080/"
        },
        "id": "sDO9nqFUQE7W",
        "outputId": "724008ca-6b0d-4f8e-894b-c5ee1e692cf9"
      },
      "outputs": [
        {
          "name": "stdout",
          "output_type": "stream",
          "text": [
            "Looking in indexes: https://pypi.org/simple, https://us-python.pkg.dev/colab-wheels/public/simple/\n",
            "Requirement already satisfied: enchant in /usr/local/lib/python3.8/dist-packages (0.0.1)\n"
          ]
        }
      ],
      "source": [
        "!pip install enchant"
      ]
    },
    {
      "cell_type": "code",
      "execution_count": 2,
      "metadata": {
        "colab": {
          "base_uri": "https://localhost:8080/"
        },
        "id": "0sBJ7Gy2UjHD",
        "outputId": "6b4eeea7-4704-4c75-93e5-682c9c1bef72"
      },
      "outputs": [
        {
          "name": "stderr",
          "output_type": "stream",
          "text": [
            "[nltk_data] Downloading package punkt to\n",
            "[nltk_data]     C:\\Users\\mannu\\AppData\\Roaming\\nltk_data...\n",
            "[nltk_data]   Package punkt is already up-to-date!\n"
          ]
        }
      ],
      "source": [
        "import pandas as pd\n",
        "import nltk\n",
        "from nltk.tokenize import word_tokenize\n",
        "# nltk.download('punkt')\n",
        "from enchant.checker import SpellChecker"
      ]
    },
    {
      "cell_type": "code",
      "execution_count": 4,
      "metadata": {
        "id": "CAeBAe4hXw8E"
      },
      "outputs": [],
      "source": [
        "# Define a function to correct a single word\n",
        "def correct_word(word):\n",
        "    checker = SpellChecker(\"en_US\")\n",
        "    checker.set_text(word)\n",
        "    for err in checker:\n",
        "        suggestions = err.suggest()\n",
        "        if suggestions:\n",
        "            err.replace(suggestions[0])\n",
        "    return checker.get_text()\n",
        "\n",
        "# Load the data from a text file\n",
        "with open(\"New Text Document.txt\", \"r\") as f:\n",
        "    text = f.read()"
      ]
    },
    {
      "cell_type": "code",
      "execution_count": 5,
      "metadata": {},
      "outputs": [],
      "source": [
        "# Tokenize the text into sentences\n",
        "sentences = nltk.sent_tokenize(text)"
      ]
    },
    {
      "cell_type": "code",
      "execution_count": 8,
      "metadata": {},
      "outputs": [],
      "source": [
        "# sentences"
      ]
    },
    {
      "cell_type": "code",
      "execution_count": 7,
      "metadata": {},
      "outputs": [],
      "source": [
        "# Create a list to store the corrected and incorrect sentences\n",
        "correct_sentences = []\n",
        "incorrect_sentences = []\n",
        "\n",
        "# Loop over each sentence and correct any spelling errors\n",
        "for sentence in sentences:\n",
        "    words = word_tokenize(sentence)\n",
        "    corrected_words = [correct_word(word) for word in words]\n",
        "    corrected_sentence = \" \".join(corrected_words)\n",
        "    if corrected_sentence == sentence:\n",
        "        correct_sentences.append(\"\")\n",
        "        incorrect_sentences.append(sentence)\n",
        "    else:\n",
        "        correct_sentences.append(corrected_sentence)\n",
        "        incorrect_sentences.append(sentence)"
      ]
    },
    {
      "cell_type": "code",
      "execution_count": 9,
      "metadata": {},
      "outputs": [],
      "source": [
        "# Create a Pandas DataFrame with the corrected and incorrect sentences in separate columns\n",
        "data = {\"Original\": sentences, \"Corrected\": correct_sentences, \"Incorrect\": incorrect_sentences}\n",
        "df = pd.DataFrame(data)\n",
        "\n",
        "# Write the DataFrame to a CSV file\n",
        "df.to_csv(\"Corrected.csv\", index=False)"
      ]
    },
    {
      "cell_type": "code",
      "execution_count": 19,
      "metadata": {},
      "outputs": [],
      "source": [
        "## It still has some mistakes related to situation.\n"
      ]
    },
    {
      "cell_type": "code",
      "execution_count": null,
      "metadata": {},
      "outputs": [],
      "source": []
    }
  ],
  "metadata": {
    "colab": {
      "provenance": []
    },
    "kernelspec": {
      "display_name": "Python 3",
      "language": "python",
      "name": "python3"
    },
    "language_info": {
      "codemirror_mode": {
        "name": "ipython",
        "version": 3
      },
      "file_extension": ".py",
      "mimetype": "text/x-python",
      "name": "python",
      "nbconvert_exporter": "python",
      "pygments_lexer": "ipython3",
      "version": "3.10.5"
    },
    "vscode": {
      "interpreter": {
        "hash": "369f2c481f4da34e4445cda3fffd2e751bd1c4d706f27375911949ba6bb62e1c"
      }
    }
  },
  "nbformat": 4,
  "nbformat_minor": 0
}
